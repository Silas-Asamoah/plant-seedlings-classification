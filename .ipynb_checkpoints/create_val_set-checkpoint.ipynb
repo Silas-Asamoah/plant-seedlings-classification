{
 "cells": [
  {
   "cell_type": "markdown",
   "metadata": {},
   "source": [
    "# Plant Seedlings Classification\n",
    "Determine the species of a seedling from an image"
   ]
  },
  {
   "cell_type": "markdown",
   "metadata": {},
   "source": [
    "# Create Validation Set from Training Set"
   ]
  },
  {
   "cell_type": "code",
   "execution_count": 1,
   "metadata": {},
   "outputs": [],
   "source": [
    "import os, shutil\n",
    "from random import shuffle"
   ]
  },
  {
   "cell_type": "code",
   "execution_count": 2,
   "metadata": {},
   "outputs": [],
   "source": [
    "# path to original dataset\n",
    "original_dataset_dir = 'data/original/train'\n",
    "# directory to store the smaller dataset\n",
    "base_dir = 'data/curated' \n",
    "\n",
    "os.mkdir(base_dir)"
   ]
  },
  {
   "cell_type": "code",
   "execution_count": 3,
   "metadata": {},
   "outputs": [],
   "source": [
    "# make training, validation and test set directories\n",
    "train_dir = os.path.join(base_dir, 'train')\n",
    "os.mkdir(train_dir)\n",
    "validation_dir = os.path.join(base_dir, 'validation')\n",
    "os.mkdir(validation_dir)"
   ]
  },
  {
   "cell_type": "markdown",
   "metadata": {},
   "source": [
    "## Create directories for each class"
   ]
  },
  {
   "cell_type": "code",
   "execution_count": 4,
   "metadata": {},
   "outputs": [],
   "source": [
    "classes = ['Black-grass', 'Charlock', 'Cleavers', 'Common Chickweed', 'Common wheat', 'Fat Hen', 'Loose Silky-bent',\n",
    "           'Maize', 'Scentless Mayweed', 'Shepherds Purse', 'Small-flowered Cranesbill', 'Sugar beet']"
   ]
  },
  {
   "cell_type": "code",
   "execution_count": 5,
   "metadata": {},
   "outputs": [],
   "source": [
    "for directory in [train_dir, validation_dir]:\n",
    "    for clas in classes:\n",
    "        clas_dir = os.path.join(directory, clas)\n",
    "        os.mkdir(clas_dir)"
   ]
  },
  {
   "cell_type": "markdown",
   "metadata": {},
   "source": [
    "## Copy images"
   ]
  },
  {
   "cell_type": "markdown",
   "metadata": {},
   "source": [
    "Training set - 70%\n",
    "\n",
    "Validation set - 30%"
   ]
  },
  {
   "cell_type": "markdown",
   "metadata": {},
   "source": [
    "### Get number of images in each class"
   ]
  },
  {
   "cell_type": "code",
   "execution_count": 6,
   "metadata": {},
   "outputs": [
    {
     "name": "stdout",
     "output_type": "stream",
     "text": [
      "Black-grass :  263\n",
      "Charlock :  390\n",
      "Cleavers :  287\n",
      "Common Chickweed :  611\n",
      "Common wheat :  221\n",
      "Fat Hen :  475\n",
      "Loose Silky-bent :  654\n",
      "Maize :  221\n",
      "Scentless Mayweed :  516\n",
      "Shepherds Purse :  231\n",
      "Small-flowered Cranesbill :  496\n",
      "Sugar beet :  385\n"
     ]
    }
   ],
   "source": [
    "for clas in classes:\n",
    "    print(clas, \": \", len(os.listdir(os.path.join(original_dataset_dir, clas))))"
   ]
  },
  {
   "cell_type": "code",
   "execution_count": 7,
   "metadata": {},
   "outputs": [
    {
     "name": "stdout",
     "output_type": "stream",
     "text": [
      "Black-grass --> Training:   185\n",
      "Black-grass --> Validation:   78\n",
      "Charlock --> Training:   273\n",
      "Charlock --> Validation:   117\n",
      "Cleavers --> Training:   201\n",
      "Cleavers --> Validation:   86\n",
      "Common Chickweed --> Training:   428\n",
      "Common Chickweed --> Validation:   183\n",
      "Common wheat --> Training:   155\n",
      "Common wheat --> Validation:   66\n",
      "Fat Hen --> Training:   333\n",
      "Fat Hen --> Validation:   142\n",
      "Loose Silky-bent --> Training:   458\n",
      "Loose Silky-bent --> Validation:   196\n",
      "Maize --> Training:   155\n",
      "Maize --> Validation:   66\n",
      "Scentless Mayweed --> Training:   362\n",
      "Scentless Mayweed --> Validation:   154\n",
      "Shepherds Purse --> Training:   162\n",
      "Shepherds Purse --> Validation:   69\n",
      "Small-flowered Cranesbill --> Training:   348\n",
      "Small-flowered Cranesbill --> Validation:   148\n",
      "Sugar beet --> Training:   270\n",
      "Sugar beet --> Validation:   115\n"
     ]
    }
   ],
   "source": [
    "rate = 0.3\n",
    "for clas in classes:\n",
    "    clas_dir = os.path.join(directory, clas)\n",
    "    original_directory = os.path.join(original_dataset_dir, clas)\n",
    "    \n",
    "\n",
    "    # list of all the images in the current class directory\n",
    "    files = os.listdir(original_directory)\n",
    "    num_of_val_images = int(rate * len(files))\n",
    "    # randomly shuffle the list\n",
    "    shuffle(files)\n",
    "    \n",
    "    val_files = files[:num_of_val_images]\n",
    "    trn_files = files[num_of_val_images:]\n",
    "    \n",
    "    for index, fnames in enumerate([trn_files, val_files]):\n",
    "        folder = train_dir if index == 0 else validation_dir\n",
    "        destination_dir = os.path.join(folder, clas)\n",
    "        \n",
    "        for fname in fnames:\n",
    "            src = os.path.join(original_directory, fname)\n",
    "            dst = os.path.join(destination_dir, fname)\n",
    "            shutil.copyfile(src, dst)  \n",
    "            \n",
    "        if index == 0:\n",
    "            print(clas, \"--> Training:  \", len(os.listdir(destination_dir)))\n",
    "        else: \n",
    "            print(clas, \"--> Validation:  \", len(os.listdir(destination_dir)))"
   ]
  }
 ],
 "metadata": {
  "kernelspec": {
   "display_name": "Python 3",
   "language": "python",
   "name": "python3"
  },
  "language_info": {
   "codemirror_mode": {
    "name": "ipython",
    "version": 3
   },
   "file_extension": ".py",
   "mimetype": "text/x-python",
   "name": "python",
   "nbconvert_exporter": "python",
   "pygments_lexer": "ipython3",
   "version": "3.5.3"
  }
 },
 "nbformat": 4,
 "nbformat_minor": 2
}
