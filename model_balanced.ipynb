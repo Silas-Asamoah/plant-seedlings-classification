{
 "cells": [
  {
   "cell_type": "markdown",
   "metadata": {},
   "source": [
    "# Plant Seedlings Classification using balanced dataset\n",
    "Determine the species of a seedling from an image"
   ]
  },
  {
   "cell_type": "markdown",
   "metadata": {},
   "source": [
    "- load and normalize the data"
   ]
  },
  {
   "cell_type": "code",
   "execution_count": 1,
   "metadata": {},
   "outputs": [],
   "source": [
    "%matplotlib inline"
   ]
  },
  {
   "cell_type": "code",
   "execution_count": 2,
   "metadata": {},
   "outputs": [],
   "source": [
    "from __future__ import print_function, division"
   ]
  },
  {
   "cell_type": "code",
   "execution_count": 3,
   "metadata": {},
   "outputs": [],
   "source": [
    "import os\n",
    "import time\n",
    "import copy\n",
    "import numpy as np\n",
    "import matplotlib.pyplot as plt\n",
    "import pandas as pd"
   ]
  },
  {
   "cell_type": "code",
   "execution_count": 4,
   "metadata": {},
   "outputs": [],
   "source": [
    "import torch\n",
    "import torch.nn as nn\n",
    "import torch.nn.functional as F\n",
    "import torch.optim as optim\n",
    "from torch.optim import lr_scheduler"
   ]
  },
  {
   "cell_type": "code",
   "execution_count": 5,
   "metadata": {},
   "outputs": [],
   "source": [
    "import torchvision\n",
    "from torchvision import transforms, datasets, models\n",
    "import torchvision.transforms.functional as TF"
   ]
  },
  {
   "cell_type": "code",
   "execution_count": 6,
   "metadata": {},
   "outputs": [],
   "source": [
    "plt.ion()"
   ]
  },
  {
   "cell_type": "code",
   "execution_count": 7,
   "metadata": {},
   "outputs": [
    {
     "data": {
      "text/plain": [
       "device(type='cuda', index=0)"
      ]
     },
     "execution_count": 7,
     "metadata": {},
     "output_type": "execute_result"
    }
   ],
   "source": [
    "device = torch.device('cuda:0' if torch.cuda.is_available() else 'cpu')\n",
    "device"
   ]
  },
  {
   "cell_type": "markdown",
   "metadata": {},
   "source": [
    "## load and normalize the data"
   ]
  },
  {
   "cell_type": "code",
   "execution_count": 8,
   "metadata": {},
   "outputs": [],
   "source": [
    "transform = {\n",
    "    'train': transforms.Compose([\n",
    "        transforms.RandomResizedCrop(224),\n",
    "        transforms.RandomHorizontalFlip(),\n",
    "        transforms.RandomVerticalFlip(),\n",
    "        transforms.ToTensor(),\n",
    "        transforms.Normalize([0.3200, 0.2880, 0.1953], [0.0840, 0.0874, 0.0952])\n",
    "    ]),\n",
    "    'val': transforms.Compose([\n",
    "        transforms.Resize(256),\n",
    "        transforms.CenterCrop(224),\n",
    "        transforms.ToTensor(),\n",
    "        transforms.Normalize([0.3200, 0.2880, 0.1953], [0.0840, 0.0874, 0.0952])\n",
    "    ]),\n",
    "    'tes': transforms.Compose([\n",
    "        transforms.Resize(256),\n",
    "        transforms.CenterCrop(224),\n",
    "        transforms.ToTensor(),\n",
    "        transforms.Normalize([0.3200, 0.2880, 0.1953], [0.0840, 0.0874, 0.0952])\n",
    "    ])\n",
    "}"
   ]
  },
  {
   "cell_type": "code",
   "execution_count": 9,
   "metadata": {},
   "outputs": [],
   "source": [
    "path = './data/balanced'"
   ]
  },
  {
   "cell_type": "markdown",
   "metadata": {},
   "source": [
    "**datasets**"
   ]
  },
  {
   "cell_type": "code",
   "execution_count": 10,
   "metadata": {},
   "outputs": [],
   "source": [
    "image_datasets = {x: datasets.ImageFolder(os.path.join(path, x), transform[x]) \n",
    "                  for x in ['train', 'val', 'tes']}"
   ]
  },
  {
   "cell_type": "markdown",
   "metadata": {},
   "source": [
    "**data loader**"
   ]
  },
  {
   "cell_type": "code",
   "execution_count": 11,
   "metadata": {},
   "outputs": [],
   "source": [
    "data_loaders = {x: torch.utils.data.DataLoader(image_datasets[x], batch_size=64, shuffle=True, num_workers=4)\n",
    "                for x in ['train', 'val']}"
   ]
  },
  {
   "cell_type": "markdown",
   "metadata": {},
   "source": [
    "**number of images**"
   ]
  },
  {
   "cell_type": "code",
   "execution_count": 12,
   "metadata": {},
   "outputs": [
    {
     "data": {
      "text/plain": [
       "{'tes': 794, 'train': 6290, 'val': 947}"
      ]
     },
     "execution_count": 12,
     "metadata": {},
     "output_type": "execute_result"
    }
   ],
   "source": [
    "nb_images = {x: len(image_datasets[x]) for x in ['train', 'val', 'tes']}\n",
    "nb_images"
   ]
  },
  {
   "cell_type": "markdown",
   "metadata": {},
   "source": [
    "**classes**"
   ]
  },
  {
   "cell_type": "code",
   "execution_count": 13,
   "metadata": {},
   "outputs": [
    {
     "data": {
      "text/plain": [
       "['Black-grass',\n",
       " 'Charlock',\n",
       " 'Cleavers',\n",
       " 'Common Chickweed',\n",
       " 'Common wheat',\n",
       " 'Fat Hen',\n",
       " 'Loose Silky-bent',\n",
       " 'Maize',\n",
       " 'Scentless Mayweed',\n",
       " 'Shepherds Purse',\n",
       " 'Small-flowered Cranesbill',\n",
       " 'Sugar beet']"
      ]
     },
     "execution_count": 13,
     "metadata": {},
     "output_type": "execute_result"
    }
   ],
   "source": [
    "class_names = image_datasets['train'].classes\n",
    "class_names"
   ]
  },
  {
   "cell_type": "markdown",
   "metadata": {},
   "source": [
    "**mean and std**"
   ]
  },
  {
   "cell_type": "code",
   "execution_count": null,
   "metadata": {},
   "outputs": [],
   "source": [
    "mean = 0.\n",
    "std = 0.\n",
    "\n",
    "for images, labels in data_loaders['train']:\n",
    "    images, labels = images.to(device), labels.to(device)\n",
    "    \n",
    "    # get number of images in the batch and number of channels\n",
    "    batch_size = images.size(0)\n",
    "    nb_channels = images.size(1)\n",
    "    \n",
    "    # flatten height and width into one axis\n",
    "    images = images.view(batch_size, nb_channels, -1)\n",
    "    # get mean and std\n",
    "    mean += images.mean(2).sum(0)\n",
    "    std += images.std(2).sum(0)\n",
    "    \n",
    "mean /= nb_images['train']\n",
    "std /= nb_images['train']\n",
    "\n",
    "print('mean: ', mean)\n",
    "print('std: ', std)"
   ]
  },
  {
   "cell_type": "markdown",
   "metadata": {},
   "source": [
    "## visualize some images"
   ]
  },
  {
   "cell_type": "code",
   "execution_count": 14,
   "metadata": {},
   "outputs": [],
   "source": [
    "def imshow(inp, title=None):\n",
    "    # convert to numpy array and transpose\n",
    "    inp = inp.numpy().transpose([1, 2, 0])\n",
    "    # mean and std used for normalization\n",
    "    mean = np.asarray([0.3200, 0.2880, 0.1953])\n",
    "    std = np.asarray([0.0840, 0.0874, 0.0952])\n",
    "    # unnormalize\n",
    "    inp = std * inp + mean\n",
    "    inp = np.clip(inp, 0, 1)\n",
    "    \n",
    "    plt.imshow(inp)\n",
    "    if title is not None:\n",
    "        plt.title(title)\n",
    "    plt.pause(0.001)"
   ]
  },
  {
   "cell_type": "code",
   "execution_count": 16,
   "metadata": {},
   "outputs": [
    {
     "data": {
      "image/png": "[encoded data removed]",
      "text/plain": [
       "<matplotlib.figure.Figure at 0x7fb51de8b2e8>"
      ]
     },
     "metadata": {},
     "output_type": "display_data"
    }
   ],
   "source": [
    "train_iter = iter(data_loaders['train'])\n",
    "images, labels = train_iter.next()\n",
    "\n",
    "grid = torchvision.utils.make_grid(images)\n",
    "title = [class_names[x] for x in labels]\n",
    "\n",
    "imshow(grid, title=title)"
   ]
  },
  {
   "cell_type": "markdown",
   "metadata": {},
   "source": [
    "## define train function"
   ]
  },
  {
   "cell_type": "code",
   "execution_count": 15,
   "metadata": {},
   "outputs": [],
   "source": [
    "def train(model, criterion, optimizer, scheduler, num_epochs=10):\n",
    "    since = time.time()\n",
    "    \n",
    "    best_model_wts = copy.deepcopy(model.state_dict())\n",
    "    best_acc = 0.\n",
    "    \n",
    "    for epoch in range(num_epochs):\n",
    "        print('Epoch {}/{}'.format(epoch+1, num_epochs))\n",
    "        print('-' * 10)\n",
    "        # each epoch has a training and a validation phase\n",
    "        for phase in ['train', 'val']:\n",
    "            if phase == 'train':\n",
    "                model.train()\n",
    "                scheduler.step()\n",
    "            else:\n",
    "                model.eval()\n",
    "            \n",
    "            running_loss = 0.\n",
    "            running_corrects = 0.\n",
    "            for images, labels in data_loaders[phase]:\n",
    "                images, labels = images.to(device), labels.to(device)\n",
    "                # zero the gradient buffer\n",
    "                optimizer.zero_grad()\n",
    "                # forward pass\n",
    "                with torch.set_grad_enabled(phase == 'train'):\n",
    "                    outputs = model(images)\n",
    "\n",
    "                    loss = criterion(outputs, labels)\n",
    "                    _, preds = torch.max(outputs, 1)\n",
    "\n",
    "                    if phase == 'train':\n",
    "                        loss.backward()\n",
    "                        optimizer.step()\n",
    "\n",
    "                # stats\n",
    "                running_loss += loss.item() * labels.size(0)\n",
    "                running_corrects += (preds == labels).sum().item()\n",
    "\n",
    "            epoch_loss = running_loss / nb_images[phase]\n",
    "            epoch_acc = running_corrects / nb_images[phase]\n",
    "\n",
    "            print('{} Loss: {:.4f}  Acc: {:.4f}'.format(\n",
    "                phase, epoch_loss, epoch_acc))\n",
    "\n",
    "            if phase == 'val' and epoch_acc > best_acc:\n",
    "                best_model_wts = copy.deepcopy(model.state_dict())\n",
    "                best_acc = epoch_acc\n",
    "\n",
    "        print()\n",
    "    \n",
    "    time_elapsed = time.time() - since\n",
    "    print('Training complete in: {:.0f}m {:.0f}s'.format(\n",
    "        time_elapsed // 60, time_elapsed % 60))\n",
    "    print('Best validation acc: {:.4f}'.format(best_acc))\n",
    "    # load best model weights\n",
    "    model.load_state_dict(best_model_wts)\n",
    "    return model   "
   ]
  },
  {
   "cell_type": "markdown",
   "metadata": {},
   "source": [
    "## generic function to display predictions of a few images"
   ]
  },
  {
   "cell_type": "code",
   "execution_count": 16,
   "metadata": {},
   "outputs": [],
   "source": [
    "def visualize_model(model, num_images=6):\n",
    "    was_training = model.training\n",
    "    images_so_far = 0\n",
    "    model.eval()\n",
    "    fig = plt.figure()\n",
    "    \n",
    "    with torch.no_grad():\n",
    "        for images, labels in data_loaders['val']:\n",
    "            images, labels = images.to(device), labels.to(device)\n",
    "            \n",
    "            outputs = model(images)\n",
    "            _, preds = torch.max(outputs, 1)\n",
    "            \n",
    "            for j in range(images.size()[0]):\n",
    "                images_so_far += 1\n",
    "                ax = plt.subplot(num_images // 2, 2, images_so_far)\n",
    "                ax.axis('off')\n",
    "                ax.set_title('predicted: {}'.format(class_names[preds[j]]))\n",
    "                imshow(images.cpu().data[j])\n",
    "                \n",
    "            if images_so_far == num_images:\n",
    "                    model.train(mode=was_training)\n",
    "                    return\n",
    "        model.train(mode=was_training)"
   ]
  },
  {
   "cell_type": "markdown",
   "metadata": {},
   "source": [
    "## create fully connected network"
   ]
  },
  {
   "cell_type": "code",
   "execution_count": 19,
   "metadata": {},
   "outputs": [],
   "source": [
    "class FullyConnected(nn.Module):\n",
    "    def __init__(self, nb_classes):\n",
    "        super(FullyConnected, self).__init__()\n",
    "        \n",
    "        self.dropout = nn.Dropout(0.3)\n",
    "        self.fc1 = nn.Linear(1024, 512)\n",
    "        self.fc2 = nn.Linear(512, nb_classes)\n",
    "        \n",
    "    def forward(self, x):\n",
    "        x = self.dropout(x)\n",
    "        x = self.dropout(F.relu(self.fc1(x)))\n",
    "        x = self.fc2(x)\n",
    "        return x"
   ]
  },
  {
   "cell_type": "code",
   "execution_count": 20,
   "metadata": {},
   "outputs": [],
   "source": [
    "fc_net = FullyConnected(len(class_names)).to(device)"
   ]
  },
  {
   "cell_type": "markdown",
   "metadata": {},
   "source": [
    "## define and freeze conv_base"
   ]
  },
  {
   "cell_type": "code",
   "execution_count": 21,
   "metadata": {},
   "outputs": [],
   "source": [
    "conv_base = models.resnet50(pretrained=True)\n",
    "conv_base = conv_base.to(device)"
   ]
  },
  {
   "cell_type": "markdown",
   "metadata": {},
   "source": [
    "**freeze weights**"
   ]
  },
  {
   "cell_type": "code",
   "execution_count": 22,
   "metadata": {},
   "outputs": [],
   "source": [
    "for param in conv_base.parameters():\n",
    "    param.requires_grad = False"
   ]
  },
  {
   "cell_type": "markdown",
   "metadata": {},
   "source": [
    "**replace fully connected layer**"
   ]
  },
  {
   "cell_type": "code",
   "execution_count": 23,
   "metadata": {},
   "outputs": [],
   "source": [
    "num_ftrs = conv_base.fc.in_features\n",
    "conv_base.fc = nn.Linear(num_ftrs, 1024)"
   ]
  },
  {
   "cell_type": "markdown",
   "metadata": {},
   "source": [
    "## combine conv_base and fc layers"
   ]
  },
  {
   "cell_type": "code",
   "execution_count": 24,
   "metadata": {},
   "outputs": [],
   "source": [
    "model = nn.Sequential(conv_base, fc_net)\n",
    "model = model.to(device)"
   ]
  },
  {
   "cell_type": "markdown",
   "metadata": {},
   "source": [
    "## define loss function"
   ]
  },
  {
   "cell_type": "code",
   "execution_count": 25,
   "metadata": {},
   "outputs": [],
   "source": [
    "criterion = nn.CrossEntropyLoss()"
   ]
  },
  {
   "cell_type": "markdown",
   "metadata": {},
   "source": [
    "## define optimizer and scheduler"
   ]
  },
  {
   "cell_type": "code",
   "execution_count": 26,
   "metadata": {},
   "outputs": [],
   "source": [
    "optimizer = optim.Adam(model.parameters(), lr=0.001)"
   ]
  },
  {
   "cell_type": "code",
   "execution_count": 27,
   "metadata": {},
   "outputs": [],
   "source": [
    "scheduler = lr_scheduler.StepLR(optimizer, 7, gamma=0.1)"
   ]
  },
  {
   "cell_type": "markdown",
   "metadata": {},
   "source": [
    "## train model"
   ]
  },
  {
   "cell_type": "code",
   "execution_count": 28,
   "metadata": {},
   "outputs": [
    {
     "name": "stdout",
     "output_type": "stream",
     "text": [
      "Epoch 1/25\n",
      "----------\n",
      "train Loss: 1.9238  Acc: 0.3315\n",
      "val Loss: 1.3999  Acc: 0.5396\n",
      "\n",
      "Epoch 2/25\n",
      "----------\n",
      "train Loss: 1.2726  Acc: 0.5561\n",
      "val Loss: 0.9769  Acc: 0.6410\n",
      "\n",
      "Epoch 3/25\n",
      "----------\n",
      "train Loss: 1.1415  Acc: 0.6087\n",
      "val Loss: 0.8210  Acc: 0.6927\n",
      "\n",
      "Epoch 4/25\n",
      "----------\n",
      "train Loss: 1.0567  Acc: 0.6323\n",
      "val Loss: 0.7854  Acc: 0.7054\n",
      "\n",
      "Epoch 5/25\n",
      "----------\n",
      "train Loss: 1.0454  Acc: 0.6437\n",
      "val Loss: 0.8454  Acc: 0.6832\n",
      "\n",
      "Epoch 6/25\n",
      "----------\n",
      "train Loss: 1.0224  Acc: 0.6471\n",
      "val Loss: 0.8744  Acc: 0.6758\n",
      "\n",
      "Epoch 7/25\n",
      "----------\n",
      "train Loss: 0.9686  Acc: 0.6707\n",
      "val Loss: 0.6674  Acc: 0.7518\n",
      "\n",
      "Epoch 8/25\n",
      "----------\n",
      "train Loss: 0.8328  Acc: 0.7119\n",
      "val Loss: 0.6032  Acc: 0.7814\n",
      "\n",
      "Epoch 9/25\n",
      "----------\n",
      "train Loss: 0.7894  Acc: 0.7256\n",
      "val Loss: 0.5994  Acc: 0.7687\n",
      "\n",
      "Epoch 10/25\n",
      "----------\n",
      "train Loss: 0.7807  Acc: 0.7291\n",
      "val Loss: 0.5854  Acc: 0.7719\n",
      "\n",
      "Epoch 11/25\n",
      "----------\n",
      "train Loss: 0.7833  Acc: 0.7266\n",
      "val Loss: 0.5911  Acc: 0.7761\n",
      "\n",
      "Epoch 12/25\n",
      "----------\n",
      "train Loss: 0.7609  Acc: 0.7361\n",
      "val Loss: 0.5972  Acc: 0.7825\n",
      "\n",
      "Epoch 13/25\n",
      "----------\n",
      "train Loss: 0.7578  Acc: 0.7415\n",
      "val Loss: 0.5716  Acc: 0.7920\n",
      "\n",
      "Epoch 14/25\n",
      "----------\n",
      "train Loss: 0.7551  Acc: 0.7429\n",
      "val Loss: 0.5435  Acc: 0.8015\n",
      "\n",
      "Epoch 15/25\n",
      "----------\n",
      "train Loss: 0.7308  Acc: 0.7423\n",
      "val Loss: 0.5577  Acc: 0.7909\n",
      "\n",
      "Epoch 16/25\n",
      "----------\n",
      "train Loss: 0.7124  Acc: 0.7480\n",
      "val Loss: 0.5579  Acc: 0.7983\n",
      "\n",
      "Epoch 17/25\n",
      "----------\n",
      "train Loss: 0.7435  Acc: 0.7432\n",
      "val Loss: 0.5518  Acc: 0.8004\n",
      "\n",
      "Epoch 18/25\n",
      "----------\n",
      "train Loss: 0.7035  Acc: 0.7583\n",
      "val Loss: 0.5490  Acc: 0.7973\n",
      "\n",
      "Epoch 19/25\n",
      "----------\n",
      "train Loss: 0.7104  Acc: 0.7556\n",
      "val Loss: 0.5434  Acc: 0.7994\n",
      "\n",
      "Epoch 20/25\n",
      "----------\n",
      "train Loss: 0.7140  Acc: 0.7521\n",
      "val Loss: 0.5602  Acc: 0.7962\n",
      "\n",
      "Epoch 21/25\n",
      "----------\n",
      "train Loss: 0.7089  Acc: 0.7583\n",
      "val Loss: 0.5668  Acc: 0.7909\n",
      "\n",
      "Epoch 22/25\n",
      "----------\n",
      "train Loss: 0.7107  Acc: 0.7502\n",
      "val Loss: 0.5624  Acc: 0.7941\n",
      "\n",
      "Epoch 23/25\n",
      "----------\n",
      "train Loss: 0.7261  Acc: 0.7442\n",
      "val Loss: 0.5714  Acc: 0.7835\n",
      "\n",
      "Epoch 24/25\n",
      "----------\n",
      "train Loss: 0.7216  Acc: 0.7498\n",
      "val Loss: 0.5503  Acc: 0.8004\n",
      "\n",
      "Epoch 25/25\n",
      "----------\n",
      "train Loss: 0.7121  Acc: 0.7539\n",
      "val Loss: 0.5462  Acc: 0.7930\n",
      "\n",
      "Training complete in: 5m 59s\n",
      "Best validation acc: 0.8015\n"
     ]
    }
   ],
   "source": [
    "model = train(model, criterion, optimizer, scheduler, num_epochs=25)"
   ]
  },
  {
   "cell_type": "markdown",
   "metadata": {},
   "source": [
    "## fine tuning"
   ]
  },
  {
   "cell_type": "code",
   "execution_count": 29,
   "metadata": {},
   "outputs": [],
   "source": [
    "for param in model.parameters():\n",
    "    param.requires_grad = True"
   ]
  },
  {
   "cell_type": "code",
   "execution_count": 30,
   "metadata": {},
   "outputs": [],
   "source": [
    "optimizer = optim.Adam(model.parameters(), lr=0.0001)"
   ]
  },
  {
   "cell_type": "code",
   "execution_count": 31,
   "metadata": {},
   "outputs": [
    {
     "name": "stdout",
     "output_type": "stream",
     "text": [
      "Epoch 1/25\n",
      "----------\n",
      "train Loss: 0.5790  Acc: 0.8002\n",
      "val Loss: 0.4186  Acc: 0.8553\n",
      "\n",
      "Epoch 2/25\n",
      "----------\n",
      "train Loss: 0.3658  Acc: 0.8781\n",
      "val Loss: 0.2169  Acc: 0.9314\n",
      "\n",
      "Epoch 3/25\n",
      "----------\n",
      "train Loss: 0.2863  Acc: 0.8994\n",
      "val Loss: 0.2638  Acc: 0.9102\n",
      "\n",
      "Epoch 4/25\n",
      "----------\n",
      "train Loss: 0.2467  Acc: 0.9157\n",
      "val Loss: 0.2015  Acc: 0.9293\n",
      "\n",
      "Epoch 5/25\n",
      "----------\n",
      "train Loss: 0.2406  Acc: 0.9154\n",
      "val Loss: 0.2019  Acc: 0.9419\n",
      "\n",
      "Epoch 6/25\n",
      "----------\n",
      "train Loss: 0.2167  Acc: 0.9266\n",
      "val Loss: 0.2657  Acc: 0.9219\n",
      "\n",
      "Epoch 7/25\n",
      "----------\n",
      "train Loss: 0.2132  Acc: 0.9280\n",
      "val Loss: 0.3411  Acc: 0.8997\n",
      "\n",
      "Epoch 8/25\n",
      "----------\n",
      "train Loss: 0.1977  Acc: 0.9335\n",
      "val Loss: 0.1845  Acc: 0.9461\n",
      "\n",
      "Epoch 9/25\n",
      "----------\n",
      "train Loss: 0.2192  Acc: 0.9281\n",
      "val Loss: 0.1709  Acc: 0.9535\n",
      "\n",
      "Epoch 10/25\n",
      "----------\n",
      "train Loss: 0.1725  Acc: 0.9429\n",
      "val Loss: 0.1632  Acc: 0.9546\n",
      "\n",
      "Epoch 11/25\n",
      "----------\n",
      "train Loss: 0.1624  Acc: 0.9409\n",
      "val Loss: 0.2030  Acc: 0.9377\n",
      "\n",
      "Epoch 12/25\n",
      "----------\n",
      "train Loss: 0.1739  Acc: 0.9397\n",
      "val Loss: 0.1581  Acc: 0.9578\n",
      "\n",
      "Epoch 13/25\n",
      "----------\n",
      "train Loss: 0.1762  Acc: 0.9436\n",
      "val Loss: 0.1609  Acc: 0.9588\n",
      "\n",
      "Epoch 14/25\n",
      "----------\n",
      "train Loss: 0.1615  Acc: 0.9479\n",
      "val Loss: 0.1692  Acc: 0.9514\n",
      "\n",
      "Epoch 15/25\n",
      "----------\n",
      "train Loss: 0.1567  Acc: 0.9466\n",
      "val Loss: 0.1539  Acc: 0.9588\n",
      "\n",
      "Epoch 16/25\n",
      "----------\n",
      "train Loss: 0.1497  Acc: 0.9494\n",
      "val Loss: 0.1606  Acc: 0.9588\n",
      "\n",
      "Epoch 17/25\n",
      "----------\n",
      "train Loss: 0.1418  Acc: 0.9534\n",
      "val Loss: 0.4603  Acc: 0.9018\n",
      "\n",
      "Epoch 18/25\n",
      "----------\n",
      "train Loss: 0.1402  Acc: 0.9523\n",
      "val Loss: 0.1401  Acc: 0.9620\n",
      "\n",
      "Epoch 19/25\n",
      "----------\n",
      "train Loss: 0.1289  Acc: 0.9579\n",
      "val Loss: 0.1423  Acc: 0.9641\n",
      "\n",
      "Epoch 20/25\n",
      "----------\n",
      "train Loss: 0.1610  Acc: 0.9458\n",
      "val Loss: 0.1943  Acc: 0.9461\n",
      "\n",
      "Epoch 21/25\n",
      "----------\n",
      "train Loss: 0.1362  Acc: 0.9523\n",
      "val Loss: 0.1691  Acc: 0.9430\n",
      "\n",
      "Epoch 22/25\n",
      "----------\n",
      "train Loss: 0.1276  Acc: 0.9563\n",
      "val Loss: 0.1183  Acc: 0.9683\n",
      "\n",
      "Epoch 23/25\n",
      "----------\n",
      "train Loss: 0.1276  Acc: 0.9531\n",
      "val Loss: 0.1399  Acc: 0.9609\n",
      "\n",
      "Epoch 24/25\n",
      "----------\n",
      "train Loss: 0.1331  Acc: 0.9558\n",
      "val Loss: 0.1443  Acc: 0.9556\n",
      "\n",
      "Epoch 25/25\n",
      "----------\n",
      "train Loss: 0.1177  Acc: 0.9580\n",
      "val Loss: 0.1769  Acc: 0.9588\n",
      "\n",
      "Training complete in: 11m 4s\n",
      "Best validation acc: 0.9683\n"
     ]
    }
   ],
   "source": [
    "model = train(model, criterion, optimizer, scheduler, num_epochs=25)"
   ]
  },
  {
   "cell_type": "code",
   "execution_count": 52,
   "metadata": {},
   "outputs": [],
   "source": [
    "optimizer = optim.Adam(model.parameters(), lr=0.0000001)"
   ]
  },
  {
   "cell_type": "code",
   "execution_count": 53,
   "metadata": {},
   "outputs": [
    {
     "name": "stdout",
     "output_type": "stream",
     "text": [
      "Epoch 1/5\n",
      "----------\n",
      "train Loss: 0.0683  Acc: 0.9771\n",
      "val Loss: 0.1288  Acc: 0.9704\n",
      "\n",
      "Epoch 2/5\n",
      "----------\n",
      "train Loss: 0.0593  Acc: 0.9779\n",
      "val Loss: 0.1337  Acc: 0.9683\n",
      "\n",
      "Epoch 3/5\n",
      "----------\n",
      "train Loss: 0.0709  Acc: 0.9790\n",
      "val Loss: 0.1306  Acc: 0.9683\n",
      "\n",
      "Epoch 4/5\n",
      "----------\n",
      "train Loss: 0.0680  Acc: 0.9771\n",
      "val Loss: 0.1320  Acc: 0.9683\n",
      "\n",
      "Epoch 5/5\n",
      "----------\n",
      "train Loss: 0.0685  Acc: 0.9776\n",
      "val Loss: 0.1292  Acc: 0.9715\n",
      "\n",
      "Training complete in: 2m 15s\n",
      "Best validation acc: 0.9715\n"
     ]
    }
   ],
   "source": [
    "model = train(model, criterion, optimizer, scheduler, num_epochs=5)"
   ]
  },
  {
   "cell_type": "markdown",
   "metadata": {},
   "source": [
    "## evaluate on test set"
   ]
  },
  {
   "cell_type": "code",
   "execution_count": 42,
   "metadata": {},
   "outputs": [],
   "source": [
    "class ImageFolderWithPaths(datasets.ImageFolder):\n",
    "    \"\"\"Custom dataset that includes image file paths. Extends\n",
    "    torchvision.datasets.ImageFolder\n",
    "    \"\"\"\n",
    "    def __init__(self, path, transform):\n",
    "        super(ImageFolderWithPaths, self).__init__(path, transform=transform)\n",
    "\n",
    "    # override the __getitem__ method. this is the method dataloader calls\n",
    "    def __getitem__(self, index):\n",
    "        # this is what ImageFolder normally returns \n",
    "        original_tuple = super(ImageFolderWithPaths, self).__getitem__(index)\n",
    "        # the image file path\n",
    "        path = self.imgs[index][0]\n",
    "        # make a new tuple that includes original and the path\n",
    "        tuple_with_path = (original_tuple + (path,))\n",
    "        return tuple_with_path"
   ]
  },
  {
   "cell_type": "code",
   "execution_count": 43,
   "metadata": {},
   "outputs": [],
   "source": [
    "# instantiate the dataset and dataloader\n",
    "test_dataset = ImageFolderWithPaths('./data/balanced/tes', transform['tes']) # our custom dataset\n",
    "test_dataloader = torch.utils.data.DataLoader(test_dataset, batch_size=64, shuffle=False, num_workers=4)"
   ]
  },
  {
   "cell_type": "code",
   "execution_count": 44,
   "metadata": {},
   "outputs": [],
   "source": [
    "model = model.eval()"
   ]
  },
  {
   "cell_type": "code",
   "execution_count": 45,
   "metadata": {},
   "outputs": [],
   "source": [
    "test_filenames = []\n",
    "test_predictions = []"
   ]
  },
  {
   "cell_type": "code",
   "execution_count": 46,
   "metadata": {},
   "outputs": [],
   "source": [
    "for images, labels, paths in test_dataloader:\n",
    "    images, labels = images.to(device), labels.to(device)\n",
    "    \n",
    "    outputs = model(images)\n",
    "    _, preds = torch.max(outputs, 1)\n",
    "    \n",
    "    predicted_classes = [class_names[i.item()] for i in preds]\n",
    "    filenames = [path[25:] for path in paths]\n",
    "    \n",
    "    test_filenames.extend(filenames)\n",
    "    test_predictions.extend(predicted_classes)"
   ]
  },
  {
   "cell_type": "code",
   "execution_count": 47,
   "metadata": {},
   "outputs": [
    {
     "data": {
      "text/plain": [
       "794"
      ]
     },
     "execution_count": 47,
     "metadata": {},
     "output_type": "execute_result"
    }
   ],
   "source": [
    "len(test_predictions)"
   ]
  },
  {
   "cell_type": "code",
   "execution_count": 48,
   "metadata": {},
   "outputs": [],
   "source": [
    "results=pd.DataFrame({\"file\":test_filenames,\n",
    "                      \"species\":test_predictions})\n",
    "results.to_csv(\"results.csv\",index=False)"
   ]
  },
  {
   "cell_type": "code",
   "execution_count": null,
   "metadata": {},
   "outputs": [],
   "source": []
  }
 ],
 "metadata": {
  "kernelspec": {
   "display_name": "Python 3",
   "language": "python",
   "name": "python3"
  },
  "language_info": {
   "codemirror_mode": {
    "name": "ipython",
    "version": 3
   },
   "file_extension": ".py",
   "mimetype": "text/x-python",
   "name": "python",
   "nbconvert_exporter": "python",
   "pygments_lexer": "ipython3",
   "version": "3.5.3"
  }
 },
 "nbformat": 4,
 "nbformat_minor": 2
}
